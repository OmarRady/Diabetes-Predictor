{
 "cells": [
  {
   "cell_type": "code",
   "execution_count": 4,
   "metadata": {},
   "outputs": [
    {
     "name": "stdout",
     "output_type": "stream",
     "text": [
      "b'{\"Results\":{\"output1\":[]}}'\n"
     ]
    }
   ],
   "source": [
    "import urllib.request\n",
    "import json\n",
    "\n",
    "data = {\n",
    "        \"Inputs\": {  # Enter your valid patina inputs instead of the ones \"1\" \n",
    "                \"input1\":\n",
    "                [\n",
    "                    {\n",
    "                            'PatientID': \"1\",   \n",
    "                            'Pregnancies': \"1\",   \n",
    "                            'PlasmaGlucose': \"1\",   \n",
    "                            'DiastolicBloodPressure': \"1\",   \n",
    "                            'TricepsThickness': \"1\",   \n",
    "                            'SerumInsulin': \"1\",   \n",
    "                            'BMI': \"81\",   \n",
    "                            'DiabetesPedigree': \"1\",   \n",
    "                            'Age': \"1\",   \n",
    "                    }\n",
    "                ],\n",
    "        },\n",
    "    \"GlobalParameters\":  {\n",
    "    }\n",
    "}\n",
    "\n",
    "body = str.encode(json.dumps(data))\n",
    "\n",
    "url = 'https://europewest.services.azureml.net/subscriptions/0f070ff7570a4a0597987b429a9ac2d7/services/00075e3e9c2244afb74f239f8a469415/execute?api-version=2.0&format=swagger'\n",
    "api_key = 'b3L82Iw2jxExQa8nWj0drtB9mnNRpFGqt+760r/xBZP5lMSdX9qlsMjREUu5b/BdNctZWHIuUFJP0luazpuBGQ==' # This the API key for the web service\n",
    "headers = {'Content-Type':'application/json', 'Authorization':('Bearer '+ api_key)}\n",
    "\n",
    "req = urllib.request.Request(url, body, headers)\n",
    "\n",
    "try:\n",
    "    response = urllib.request.urlopen(req)\n",
    "\n",
    "    result = response.read()\n",
    "    print(result)\n",
    "except urllib.error.HTTPError as error:\n",
    "    print(\"The request failed with status code: \" + str(error.code))\n",
    "\n",
    "    # Print the headers - they include the requert ID and the timestamp, which are useful for debugging the failure\n",
    "    print(error.info())\n",
    "    print(json.loads(error.read().decode(\"utf8\", 'ignore')))"
   ]
  },
  {
   "cell_type": "code",
   "execution_count": null,
   "metadata": {},
   "outputs": [],
   "source": []
  }
 ],
 "metadata": {
  "kernelspec": {
   "display_name": "Python 3",
   "language": "python",
   "name": "python3"
  },
  "language_info": {
   "codemirror_mode": {
    "name": "ipython",
    "version": 3
   },
   "file_extension": ".py",
   "mimetype": "text/x-python",
   "name": "python",
   "nbconvert_exporter": "python",
   "pygments_lexer": "ipython3",
   "version": "3.6.7"
  }
 },
 "nbformat": 4,
 "nbformat_minor": 2
}
